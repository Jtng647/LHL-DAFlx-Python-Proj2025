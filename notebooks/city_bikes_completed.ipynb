{
  "cells": [
    {
      "cell_type": "markdown",
      "metadata": {
        "id": "rLTSRAHohqer"
      },
      "source": [
        "# CityBikes"
      ]
    },
    {
      "cell_type": "markdown",
      "metadata": {
        "id": "wL2JnGzyhqet"
      },
      "source": [
        "1) Send a request to CityBikes for the city of your choice."
      ]
    },
    {
      "cell_type": "code",
      "execution_count": null,
      "metadata": {
        "id": "P_LL9ztYhqeu"
      },
      "outputs": [],
      "source": [
        "import requests\n",
        "import pandas\n",
        "import json\n",
        "from pandas import json_normalize\n",
        "\n",
        "citybikes_url = \"https://api.citybik.es/v2/networks\"\n",
        "response = requests.get(citybikes_url)\n",
        "\n",
        "networks = response.json()[\"networks\"]\n",
        "\n",
        "osaka_network = None\n",
        "for network in networks:\n",
        "    if \"docomo bike share\" in network.get(\"name\").lower():\n",
        "        osaka_network = network\n",
        "        break\n",
        "\n",
        "network_id = osaka_network[\"id\"]\n",
        "stations_url = f\"https://api.citybik.es/v2/networks/{network_id}\"\n",
        "response = requests.get(stations_url)\n",
        "\n",
        "stations_data = response.json()[\"network\"][\"stations\"]\n"
      ]
    },
    {
      "cell_type": "markdown",
      "source": [
        "The above script sends a request to CityBikes to retrieve the data for the stations in the city of Osaka, Japan. Upon exploring the structure of the API on CityBike's site map, it seems Osaska does not have only one Bike Share network for the entire city, but rather multiple depending on the Network Service Provider. In this case, the DOCOMO network was chosen and used as the Osaka bike share equivalent. The data retrieve request was run and stored in the JSON - \"stations_data\"."
      ],
      "metadata": {
        "id": "3KFKP7t5IAfe"
      }
    },
    {
      "cell_type": "markdown",
      "metadata": {
        "id": "ZuUfO5oZhqeu"
      },
      "source": [
        "2) Parse through the response to get the details you want for the bike stations in that city (latitude, longitude, number of bikes)."
      ]
    },
    {
      "cell_type": "code",
      "execution_count": null,
      "metadata": {
        "id": "8Y3xFsgNhqev"
      },
      "outputs": [],
      "source": [
        "parsed_data = []\n",
        "\n",
        "for station in stations_data:\n",
        "    parsed_data.append({\n",
        "        \"name\": station.get(\"name\"),\n",
        "        \"latitude\": station.get(\"latitude\"),\n",
        "        \"longitude\": station.get(\"longitude\"),\n",
        "        \"free_bikes\": station.get(\"free_bikes\")\n",
        "    })\n"
      ]
    },
    {
      "cell_type": "markdown",
      "source": [
        "This section of the script parses all the data from the JSON created previously (stations_data) to only show the requested information - latitude, longtitude, and number of bikes (listed as \"free_bikes\" in the CityBikes API). The \"name\" data was added in to help identify which station the information corresponds to."
      ],
      "metadata": {
        "id": "er4kYQpLJrv-"
      }
    },
    {
      "cell_type": "markdown",
      "metadata": {
        "id": "kkXG_iLOhqev"
      },
      "source": [
        "3) Put your parsed results into a DataFrame."
      ]
    },
    {
      "cell_type": "code",
      "execution_count": null,
      "metadata": {
        "id": "o_SXPnYLhqev"
      },
      "outputs": [],
      "source": [
        "df = json_normalize(parsed_data)\n",
        "\n",
        "print(f\"\\nParsed {len(df)} stations for Osaka (Docomo Bike Share):\\n\")\n",
        "print(df.to_string)\n"
      ]
    },
    {
      "cell_type": "markdown",
      "source": [
        "This section of the script puts the parsed results into the Pandas DataFrame (line 1), using the \"json_normalize\" function to flatten the data into a nicer table to work with in the future. It also prints out the first 5 lines to visually preview the data to make sure the parsed information is as expected. However, as it is a simple print of the DataFrame contents, it is not as nicely formatted at this stage (and in particular, in a Colab notebook)."
      ],
      "metadata": {
        "id": "aEBzMxZmK-ll"
      }
    },
    {
      "cell_type": "markdown",
      "source": [
        "4a) Optional - Save JSON to local directory"
      ],
      "metadata": {
        "id": "VwSU6PL7sev2"
      }
    },
    {
      "cell_type": "code",
      "source": [
        "with open(\"osaka_docomo_stations.json\", \"w\", encoding=\"utf-8\") as f:\n",
        "    json.dump(stations_data, f, indent=2, ensure_ascii=False)\n",
        "\n",
        "print(\"JSON file saved.\")"
      ],
      "metadata": {
        "id": "j3TjgoBGO_bG"
      },
      "execution_count": null,
      "outputs": []
    },
    {
      "cell_type": "markdown",
      "source": [
        "4b) Optional - Save as CSV to local directory"
      ],
      "metadata": {
        "id": "v-xykqPuTmj_"
      }
    },
    {
      "cell_type": "code",
      "source": [
        "df.to_csv(\"osaka_docomo_stations.csv\", index=False, encoding=\"utf-8-sig\")\n",
        "\n",
        "print(\"CSV file saved.\")"
      ],
      "metadata": {
        "id": "5Qg7Ooe6UHPe"
      },
      "execution_count": null,
      "outputs": []
    },
    {
      "cell_type": "markdown",
      "source": [
        "*For both the above optional scripts, utf-8 encoding is used since we are working with Osaka bike stations. Most station names are in Japanese characters."
      ],
      "metadata": {
        "id": "aOTFdKi9UorY"
      }
    },
    {
      "cell_type": "markdown",
      "source": [],
      "metadata": {
        "id": "6QWMNEM-Tc44"
      }
    }
  ],
  "metadata": {
    "kernelspec": {
      "display_name": "Python 3",
      "language": "python",
      "name": "python3"
    },
    "language_info": {
      "codemirror_mode": {
        "name": "ipython",
        "version": 3
      },
      "file_extension": ".py",
      "mimetype": "text/x-python",
      "name": "python",
      "nbconvert_exporter": "python",
      "pygments_lexer": "ipython3",
      "version": "3.8.5"
    },
    "colab": {
      "provenance": []
    }
  },
  "nbformat": 4,
  "nbformat_minor": 0
}