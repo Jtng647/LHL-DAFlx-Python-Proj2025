{
  "cells": [
    {
      "cell_type": "markdown",
      "metadata": {
        "id": "xVaPzWbQXSji"
      },
      "source": [
        "Build a regression model."
      ]
    },
    {
      "cell_type": "code",
      "execution_count": 11,
      "metadata": {
        "id": "qg7a3CHWXSjj"
      },
      "outputs": [],
      "source": [
        "!pip install statsmodels\n",
        "import statsmodels.api as sm\n",
        "import pandas\n",
        "\n",
        "df = pandas.read_json(\"joined_osaka_venue_station_data.json\")\n",
        "\n",
        "df = df.dropna(subset=[\"free_bikes\", \"venue_rating\"])\n",
        "\n",
        "df[\"free_bikes\"] = pandas.to_numeric(df[\"free_bikes\"], errors=\"coerce\")\n",
        "df[\"venue_rating\"] = pandas.to_numeric(df[\"venue_rating\"], errors=\"coerce\")\n",
        "\n",
        "y = df[\"free_bikes\"]\n",
        "X = df[[\"venue_rating\"]]\n",
        "X = sm.add_constant(X)\n",
        "\n",
        "model = sm.OLS(y, X).fit()\n"
      ]
    },
    {
      "cell_type": "markdown",
      "metadata": {
        "id": "sFfesqOLXSjj"
      },
      "source": [
        "Provide model output and an interpretation of the results."
      ]
    },
    {
      "cell_type": "code",
      "execution_count": 12,
      "metadata": {
        "colab": {
          "base_uri": "https://localhost:8080/"
        },
        "id": "rWfD-RITXSjj",
        "outputId": "39f1332c-d87b-4fb5-9d63-73ecac57de2a"
      },
      "outputs": [
        {
          "output_type": "stream",
          "name": "stdout",
          "text": [
            "                            OLS Regression Results                            \n",
            "==============================================================================\n",
            "Dep. Variable:             free_bikes   R-squared:                       0.012\n",
            "Model:                            OLS   Adj. R-squared:                 -0.009\n",
            "Method:                 Least Squares   F-statistic:                    0.5666\n",
            "Date:                Tue, 20 May 2025   Prob (F-statistic):              0.455\n",
            "Time:                        23:38:55   Log-Likelihood:                -34.976\n",
            "No. Observations:                  50   AIC:                             73.95\n",
            "Df Residuals:                      48   BIC:                             77.78\n",
            "Df Model:                           1                                         \n",
            "Covariance Type:            nonrobust                                         \n",
            "================================================================================\n",
            "                   coef    std err          t      P>|t|      [0.025      0.975]\n",
            "--------------------------------------------------------------------------------\n",
            "const            0.7722      0.239      3.226      0.002       0.291       1.253\n",
            "venue_rating    -0.0422      0.056     -0.753      0.455      -0.155       0.070\n",
            "==============================================================================\n",
            "Omnibus:                      583.936   Durbin-Watson:                   0.184\n",
            "Prob(Omnibus):                  0.000   Jarque-Bera (JB):                8.055\n",
            "Skew:                          -0.396   Prob(JB):                       0.0178\n",
            "Kurtosis:                       1.200   Cond. No.                         15.3\n",
            "==============================================================================\n",
            "\n",
            "Notes:\n",
            "[1] Standard Errors assume that the covariance matrix of the errors is correctly specified.\n"
          ]
        }
      ],
      "source": [
        "print(model.summary())"
      ]
    },
    {
      "cell_type": "markdown",
      "source": [
        "Based on the regression model results output above, a few interpretations can be drawn regarding the relation between the Number of Bikes and the Restaurants' (in its vicinity's) Ratings:\n",
        "\n",
        "\n",
        "*   Per the R-squared value of **0.012**: This model does not quite fit the correlation we are trying to find, as it can only explain 1.2% of the variances between ratings and the number of bikes.\n",
        "\n",
        "  Perhaps this means that the number bikes being parked at these stations are not solely in response to the restaurants' popularities around them. Most likely, the restaurants are not the main, or only, motivation to park their bikes there.\n",
        "\n",
        "*   Per the P-Value of 0.455 and Coeff. of -0.0422 for the Venue Ratings: This particular chracteristic of the restaurant is not statistically significant, nor does it have much impact on the Number of Bikes variable. This is aligned with the intepretation from the R-Squared value.\n",
        "\n",
        "  It would seem that, while intuitively, one would think a restaurant's rating/popularity may draw customers to the area this is not the case when it comes to the bikes in the area. Perhaps this means customers are not biking to the restaurants and are taking another mode of transportation. Alternatively, the bikes in the area are not there due to the restaurants but rather for other purposes in the area. In any case, the correlation between bikes at those stations and the ratings of the restaurants in the vicinity (however high those ratings are) seems to be very low."
      ],
      "metadata": {
        "id": "PG-SnClyCJf2"
      }
    },
    {
      "cell_type": "markdown",
      "metadata": {
        "id": "3jj78JyQXSjj"
      },
      "source": [
        "# Stretch"
      ]
    },
    {
      "cell_type": "markdown",
      "metadata": {
        "id": "JrJ4RIEyXSjk"
      },
      "source": [
        "How can you turn the regression model into a classification model?"
      ]
    },
    {
      "cell_type": "markdown",
      "source": [
        "To turn the regression model into a classification model the number of bikes continuous variable would need to be used to define **discrete** variables/categories. These categories would then need to be used to answer similar, or even the same, questions surrounding correlation.\n",
        "\n",
        "The approach would be akin to the following:\n",
        "\n",
        "\n",
        "1.   First, defining the classification type (logistic or multinominal)\n",
        "2.   Use the data drawn previously on the venue and assign them as predictors, as to what they might indicate.\n",
        "3.  Process the data to be used (data cleaning) if not done already.\n",
        "4.  Establish/prepare test sets to put the data through.\n",
        "5.  Apply the classification model.\n",
        "6.  Evaluate the results.\n",
        "\n"
      ],
      "metadata": {
        "id": "CO9q_20XMzv2"
      }
    }
  ],
  "metadata": {
    "kernelspec": {
      "display_name": "Python 3",
      "language": "python",
      "name": "python3"
    },
    "language_info": {
      "codemirror_mode": {
        "name": "ipython",
        "version": 3
      },
      "file_extension": ".py",
      "mimetype": "text/x-python",
      "name": "python",
      "nbconvert_exporter": "python",
      "pygments_lexer": "ipython3",
      "version": "3.8.5"
    },
    "colab": {
      "provenance": []
    }
  },
  "nbformat": 4,
  "nbformat_minor": 0
}